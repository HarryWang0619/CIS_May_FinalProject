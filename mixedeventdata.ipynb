{
 "cells": [
  {
   "cell_type": "code",
   "execution_count": 1,
   "metadata": {},
   "outputs": [],
   "source": [
    "from utils import *\n",
    "debug = True"
   ]
  },
  {
   "cell_type": "code",
   "execution_count": 2,
   "metadata": {},
   "outputs": [],
   "source": [
    "all_events = [importpbdatapandas(i) for i in range(0, 22948)]"
   ]
  },
  {
   "cell_type": "code",
   "execution_count": 3,
   "metadata": {},
   "outputs": [],
   "source": [
    "def background_distribution(event1, event2):\n",
    "    philist = np.array([])\n",
    "    etalist = np.array([])\n",
    "    for i in range(len(event1)):\n",
    "        #hold index0 for first event, and traverse second event\n",
    "        for j in range(len(event2)):\n",
    "            dphi = event1[\"phi\"][i] - event2[\"phi\"][j]\n",
    "            if dphi > np.pi:\n",
    "                dphi = dphi - 2*np.pi\n",
    "            if dphi < -np.pi:\n",
    "                dphi = dphi + 2*np.pi\n",
    "            deta = event1[\"eta\"][i] - event2[\"eta\"][j]\n",
    "            philist = np.append(philist, dphi)\n",
    "            etalist = np.append(etalist, deta)\n",
    "\n",
    "    df = pd.DataFrame(np.vstack([philist,etalist]).T,columns=['phi','eta'])\n",
    "    df = pd.concat([df, -1*df], ignore_index=True)\n",
    "\n",
    "    return df"
   ]
  },
  {
   "cell_type": "code",
   "execution_count": 4,
   "metadata": {},
   "outputs": [],
   "source": [
    "def background_range(start,end): #简单测试用的: 连续的 different event difference\n",
    "    # 01,12,23,34....\n",
    "    if start > end or start < 0 or start > 22947 or end < 0 or end > 22947:\n",
    "        print(\"index error\")\n",
    "        return\n",
    "    \n",
    "    df = background_distribution(all_events[start], all_events[start+1])\n",
    "    start += 1\n",
    "    while start+1 <= end:\n",
    "        event1 = all_events[start]\n",
    "        event2 = all_events[start+1]\n",
    "        temp = background_distribution(event1, event2)\n",
    "        df = pd.concat([df, temp], ignore_index=True)\n",
    "        start += 1\n",
    "\n",
    "    return df\n",
    "    "
   ]
  },
  {
   "cell_type": "code",
   "execution_count": 16,
   "metadata": {},
   "outputs": [],
   "source": [
    "def background_range_pro(start, end): #老师让我们去搞的 ： 任意的different event difference\n",
    "    #01,02,03,04, 12,13,14, 23,34\n",
    "    t0 = time.time()\n",
    "    if start > end or start < 0 or start > 22947 or end < 0 or end > 22947:\n",
    "        print(\"index error\")\n",
    "        return\n",
    "    \n",
    "    current1idx = 0\n",
    "    current2idx = 1\n",
    "    # print(\"now processing index: \",current1idx, current2idx) \n",
    "    df = background_distribution(all_events[start], all_events[start+1])\n",
    "    current2idx += 1\n",
    "    while current1idx <= end-1:\n",
    "        print(\"now processing index A at: \",current1idx, \"time: \", time.time()-t0)\n",
    "        while current2idx <= end:\n",
    "            # print(\"now processing index: \",current1idx, current2idx)\n",
    "            event1 = all_events[current1idx]\n",
    "            event2 = all_events[current2idx]\n",
    "            temp = background_distribution(event1, event2)\n",
    "            df = pd.concat([df, temp], ignore_index=True)\n",
    "            current2idx += 1\n",
    "        current1idx += 1\n",
    "        current2idx = current1idx + 1\n",
    "\n",
    "    return df\n"
   ]
  },
  {
   "cell_type": "code",
   "execution_count": 5,
   "metadata": {},
   "outputs": [
    {
     "name": "stdout",
     "output_type": "stream",
     "text": [
      "calculating surface for first  367 x50 events at time: 191.74904799461365\n",
      "calculating surface for first  368 x50 events at time: 387.09472823143005\n",
      "calculating surface for first  369 x50 events at time: 564.3462481498718\n"
     ]
    }
   ],
   "source": [
    "t0 = time.time()\n",
    "\n",
    "for i in range (367,370): #459: 0-50, 50-100, 100-150, 150-200, 200-250 || 250-300, 300-350, 350-400, 400-459\n",
    "    idxstart = i*50\n",
    "    idxend = idxstart + 49 if (idxstart < 22899) else 22947\n",
    "    #print(idxstart, idxend)\n",
    "\n",
    "    mixed_i = background_range(idxstart, idxend)\n",
    "    print(\"calculating surface for first \", i, \"x50 events at time:\" , time.time() - t0)\n",
    "    mixed_x, mixed_y, mixed_z = surfacedata(mixed_i, 40, 40, 3.15, 6)\n",
    "    filename = 'mixed40x40/mixed_z_' + str(i) + '.csv'\n",
    "    np.savetxt(filename, mixed_z, delimiter=\",\")\n",
    "    # if i == 0:\n",
    "    #     np.savetxt('mixed40x40/mixed_x_header.csv', mixed_x, delimiter=\",\")\n",
    "    #     np.savetxt('mixed40x40/mixed_y_header.csv', mixed_y, delimiter=\",\")"
   ]
  }
 ],
 "metadata": {
  "kernelspec": {
   "display_name": "Python 3.10.5 64-bit",
   "language": "python",
   "name": "python3"
  },
  "language_info": {
   "codemirror_mode": {
    "name": "ipython",
    "version": 3
   },
   "file_extension": ".py",
   "mimetype": "text/x-python",
   "name": "python",
   "nbconvert_exporter": "python",
   "pygments_lexer": "ipython3",
   "version": "3.10.5"
  },
  "orig_nbformat": 4,
  "vscode": {
   "interpreter": {
    "hash": "aee8b7b246df8f9039afb4144a1f6fd8d2ca17a180786b69acc140d282b71a49"
   }
  }
 },
 "nbformat": 4,
 "nbformat_minor": 2
}

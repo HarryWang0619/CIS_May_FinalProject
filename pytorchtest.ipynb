{
 "cells": [
  {
   "cell_type": "code",
   "execution_count": 4,
   "metadata": {},
   "outputs": [],
   "source": [
    "import torch\n",
    "import numpy as np\n",
    "from utils import *"
   ]
  },
  {
   "cell_type": "code",
   "execution_count": 5,
   "metadata": {},
   "outputs": [],
   "source": [
    "if torch.cuda.is_available():\n",
    "  tensor = tensor.to('cuda')"
   ]
  },
  {
   "cell_type": "code",
   "execution_count": 31,
   "metadata": {},
   "outputs": [],
   "source": [
    "def single_event_difference(i,phase=1.5):\n",
    "    event = importpbdatanumpy(i).T\n",
    "    phi = torch.tensor(event[2])\n",
    "    eta = torch.tensor(event[1])\n",
    "    deta = eta - eta.unsqueeze(-1)\n",
    "    dphi = phi - phi.unsqueeze(-1)\n",
    "    ids = torch.arange(0,len(phi))\n",
    "    mask = torch.ones_like(dphi).scatter_(1,ids.unsqueeze(1),0.)\n",
    "    dphi = dphi[mask.bool()]\n",
    "    deta = deta[mask.bool()]\n",
    "    pimask = (dphi > torch.pi)*(-1) + (dphi < -torch.pi)*1\n",
    "    dphi += (pimask*2*torch.pi+phase)\n",
    "    result = torch.stack([dphi,deta],dim=1)\n",
    "    return result"
   ]
  },
  {
   "cell_type": "code",
   "execution_count": 32,
   "metadata": {},
   "outputs": [],
   "source": [
    "for i in range(0,22):#22948\n",
    "    currentresult = single_event_difference(i)\n",
    "    npfile = currentresult.numpy()"
   ]
  },
  {
   "cell_type": "code",
   "execution_count": 33,
   "metadata": {},
   "outputs": [],
   "source": [
    "cr = single_event_difference(10000)\n",
    "npevent = cr.numpy()\n",
    "np.savetxt(\"test.csv\", npevent, delimiter=\",\")"
   ]
  },
  {
   "cell_type": "code",
   "execution_count": 34,
   "metadata": {},
   "outputs": [
    {
     "name": "stdout",
     "output_type": "stream",
     "text": [
      "tensor(4.6412, dtype=torch.float64)\n",
      "tensor(-1.6412, dtype=torch.float64)\n"
     ]
    }
   ],
   "source": [
    "print(cr.T[0].max())\n",
    "print(cr.T[0].min())"
   ]
  },
  {
   "cell_type": "code",
   "execution_count": 7,
   "metadata": {},
   "outputs": [],
   "source": [
    "event = importpbdatanumpy(0).T\n",
    "phi = torch.tensor(event[2])\n",
    "eta = torch.tensor(event[1])\n",
    "deta = eta - eta.unsqueeze(-1)\n",
    "dphi = phi - phi.unsqueeze(-1)\n",
    "ids = torch.arange(0,len(phi))\n",
    "mask = torch.ones_like(dphi).scatter_(1,ids.unsqueeze(1),0.)\n",
    "dphi = dphi[mask.bool()]\n",
    "deta = deta[mask.bool()]\n",
    "pimask = (dphi > torch.pi)*(-1) + (dphi < -torch.pi)*1\n",
    "dphi += pimask*2*torch.pi\n",
    "result = torch.stack([dphi,deta],dim=1)"
   ]
  }
 ],
 "metadata": {
  "kernelspec": {
   "display_name": "Python 3.10.4 ('base')",
   "language": "python",
   "name": "python3"
  },
  "language_info": {
   "codemirror_mode": {
    "name": "ipython",
    "version": 3
   },
   "file_extension": ".py",
   "mimetype": "text/x-python",
   "name": "python",
   "nbconvert_exporter": "python",
   "pygments_lexer": "ipython3",
   "version": "3.10.4"
  },
  "orig_nbformat": 4,
  "vscode": {
   "interpreter": {
    "hash": "7ed8f763a95a641732d10e5bd8265073119b1d9e7f08263f92237aae76f2d3c6"
   }
  }
 },
 "nbformat": 4,
 "nbformat_minor": 2
}

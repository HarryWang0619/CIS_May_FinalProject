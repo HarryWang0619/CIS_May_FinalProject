{
 "cells": [
  {
   "cell_type": "code",
   "execution_count": 4,
   "metadata": {},
   "outputs": [],
   "source": [
    "import torch\n",
    "import numpy as np\n",
    "from utils import *"
   ]
  },
  {
   "cell_type": "code",
   "execution_count": 5,
   "metadata": {},
   "outputs": [],
   "source": [
    "if torch.cuda.is_available():\n",
    "  tensor = tensor.to('cuda')"
   ]
  },
  {
   "cell_type": "code",
   "execution_count": 24,
   "metadata": {},
   "outputs": [
    {
     "name": "stdout",
     "output_type": "stream",
     "text": [
      "tensor([[ 0.0000,  0.0300,  0.0590,  ...,  4.6170,  2.1030,  2.6080],\n",
      "        [-0.0300,  0.0000,  0.0290,  ...,  4.5870,  2.0730,  2.5780],\n",
      "        [-0.0590, -0.0290,  0.0000,  ...,  4.5580,  2.0440,  2.5490],\n",
      "        ...,\n",
      "        [-4.6170, -4.5870, -4.5580,  ...,  0.0000, -2.5140, -2.0090],\n",
      "        [-2.1030, -2.0730, -2.0440,  ...,  2.5140,  0.0000,  0.5050],\n",
      "        [-2.6080, -2.5780, -2.5490,  ...,  2.0090, -0.5050,  0.0000]],\n",
      "       dtype=torch.float64)\n",
      "tensor([[ 0.0000,  1.5020, -1.4840,  ...,  2.2650,  2.4010,  2.2120],\n",
      "        [-1.5020,  0.0000, -2.9860,  ...,  0.7630,  0.8990,  0.7100],\n",
      "        [ 1.4840,  2.9860,  0.0000,  ...,  3.7490,  3.8850,  3.6960],\n",
      "        ...,\n",
      "        [-2.2650, -0.7630, -3.7490,  ...,  0.0000,  0.1360, -0.0530],\n",
      "        [-2.4010, -0.8990, -3.8850,  ..., -0.1360,  0.0000, -0.1890],\n",
      "        [-2.2120, -0.7100, -3.6960,  ...,  0.0530,  0.1890,  0.0000]],\n",
      "       dtype=torch.float64)\n"
     ]
    }
   ],
   "source": [
    "event0 = importpbdatanumpy(0).T\n",
    "phi = torch.tensor(event0[2])\n",
    "eta = torch.tensor(event0[1])\n",
    "d_eta = eta - eta.unsqueeze(-1)\n",
    "d_phi = phi - phi.unsqueeze(-1)\n",
    "print(d_phi)\n",
    "print(d_eta)"
   ]
  }
 ],
 "metadata": {
  "kernelspec": {
   "display_name": "Python 3.10.4 64-bit",
   "language": "python",
   "name": "python3"
  },
  "language_info": {
   "codemirror_mode": {
    "name": "ipython",
    "version": 3
   },
   "file_extension": ".py",
   "mimetype": "text/x-python",
   "name": "python",
   "nbconvert_exporter": "python",
   "pygments_lexer": "ipython3",
   "version": "3.10.4"
  },
  "orig_nbformat": 4,
  "vscode": {
   "interpreter": {
    "hash": "fbe18edc02b0afde77b04389e793eee95343ecfd029af9658c775aaa40a68cc8"
   }
  }
 },
 "nbformat": 4,
 "nbformat_minor": 2
}

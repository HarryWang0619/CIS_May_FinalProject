{
 "cells": [
  {
   "cell_type": "code",
   "execution_count": 52,
   "metadata": {},
   "outputs": [],
   "source": [
    "import torch\n",
    "import numpy as np\n",
    "from utils import *"
   ]
  },
  {
   "cell_type": "code",
   "execution_count": 53,
   "metadata": {},
   "outputs": [],
   "source": [
    "if torch.cuda.is_available():\n",
    "  tensor = tensor.to('cuda')"
   ]
  },
  {
   "cell_type": "code",
   "execution_count": 112,
   "metadata": {},
   "outputs": [],
   "source": [
    "def single_event_difference(i):\n",
    "    event = importpbdatanumpy(i).T\n",
    "    phi = torch.tensor(event[2])\n",
    "    eta = torch.tensor(event[1])\n",
    "    deta = eta - eta.unsqueeze(-1)\n",
    "    dphi = phi - phi.unsqueeze(-1)\n",
    "    ids = torch.arange(0,len(phi))\n",
    "    mask = torch.ones_like(dphi).scatter_(1,ids.unsqueeze(1),0.)\n",
    "    dphi = dphi[mask.bool()]\n",
    "    deta = deta[mask.bool()]\n",
    "    pimask = (dphi > torch.pi)*(-1) + (dphi < -torch.pi)*1\n",
    "    dphi += pimask*2*torch.pi\n",
    "    result = torch.stack([dphi,deta],dim=1)\n",
    "    return result"
   ]
  },
  {
   "cell_type": "code",
   "execution_count": 113,
   "metadata": {},
   "outputs": [],
   "source": [
    "for i in range(0,1000):\n",
    "    single_event_difference(i)"
   ]
  },
  {
   "cell_type": "code",
   "execution_count": 114,
   "metadata": {},
   "outputs": [
    {
     "data": {
      "text/plain": [
       "tensor([[-0.0830,  2.2600],\n",
       "        [ 0.0480,  1.4460],\n",
       "        [ 0.0680,  0.0790],\n",
       "        ...,\n",
       "        [-0.8470, -0.5080],\n",
       "        [-1.5510,  3.9970],\n",
       "        [-1.0840, -0.0770]], dtype=torch.float64)"
      ]
     },
     "execution_count": 114,
     "metadata": {},
     "output_type": "execute_result"
    }
   ],
   "source": [
    "single_event_difference(10000)"
   ]
  },
  {
   "cell_type": "code",
   "execution_count": 115,
   "metadata": {},
   "outputs": [],
   "source": [
    "event = importpbdatanumpy(0).T\n",
    "phi = torch.tensor(event[2])\n",
    "eta = torch.tensor(event[1])\n",
    "deta = eta - eta.unsqueeze(-1)\n",
    "dphi = phi - phi.unsqueeze(-1)\n",
    "ids = torch.arange(0,len(phi))\n",
    "mask = torch.ones_like(dphi).scatter_(1,ids.unsqueeze(1),0.)\n",
    "dphi = dphi[mask.bool()]\n",
    "deta = deta[mask.bool()]\n",
    "pimask = (dphi > torch.pi)*(-1) + (dphi < -torch.pi)*1\n",
    "dphi += pimask*2*torch.pi\n",
    "result = torch.stack([dphi,deta],dim=1)"
   ]
  }
 ],
 "metadata": {
  "kernelspec": {
   "display_name": "Python 3.10.4 64-bit",
   "language": "python",
   "name": "python3"
  },
  "language_info": {
   "codemirror_mode": {
    "name": "ipython",
    "version": 3
   },
   "file_extension": ".py",
   "mimetype": "text/x-python",
   "name": "python",
   "nbconvert_exporter": "python",
   "pygments_lexer": "ipython3",
   "version": "3.10.4"
  },
  "orig_nbformat": 4,
  "vscode": {
   "interpreter": {
    "hash": "fbe18edc02b0afde77b04389e793eee95343ecfd029af9658c775aaa40a68cc8"
   }
  }
 },
 "nbformat": 4,
 "nbformat_minor": 2
}

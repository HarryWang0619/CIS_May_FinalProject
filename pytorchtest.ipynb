{
 "cells": [
  {
   "cell_type": "code",
   "execution_count": 4,
   "metadata": {},
   "outputs": [],
   "source": [
    "import torch\n",
    "import numpy as np\n",
    "from utils import *"
   ]
  },
  {
   "cell_type": "code",
   "execution_count": 5,
   "metadata": {},
   "outputs": [],
   "source": [
    "if torch.cuda.is_available():\n",
    "  tensor = tensor.to('cuda')"
   ]
  },
  {
   "cell_type": "code",
   "execution_count": 50,
   "metadata": {},
   "outputs": [
    {
     "name": "stdout",
     "output_type": "stream",
     "text": [
      "torch.Size([59292])\n",
      "tensor([ 1.5020, -1.4840, -0.9760,  ..., -4.4090,  0.0530,  0.1890],\n",
      "       dtype=torch.float64)\n"
     ]
    }
   ],
   "source": [
    "event0 = importpbdatanumpy(0).T\n",
    "phi = torch.tensor(event0[2])\n",
    "eta = torch.tensor(event0[1])\n",
    "deta = eta - eta.unsqueeze(-1)\n",
    "dphi = phi - phi.unsqueeze(-1)\n",
    "ids = torch.arange(0,len(phi))\n",
    "mask = torch.ones_like(dphi).scatter_(1,ids.unsqueeze(1),0.)\n",
    "dphi = dphi[mask.bool()]\n",
    "deta = deta[mask.bool()]"
   ]
  }
 ],
 "metadata": {
  "kernelspec": {
   "display_name": "Python 3.10.4 64-bit",
   "language": "python",
   "name": "python3"
  },
  "language_info": {
   "codemirror_mode": {
    "name": "ipython",
    "version": 3
   },
   "file_extension": ".py",
   "mimetype": "text/x-python",
   "name": "python",
   "nbconvert_exporter": "python",
   "pygments_lexer": "ipython3",
   "version": "3.10.4"
  },
  "orig_nbformat": 4,
  "vscode": {
   "interpreter": {
    "hash": "fbe18edc02b0afde77b04389e793eee95343ecfd029af9658c775aaa40a68cc8"
   }
  }
 },
 "nbformat": 4,
 "nbformat_minor": 2
}

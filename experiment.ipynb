{
 "cells": [
  {
   "cell_type": "code",
   "execution_count": 1,
   "metadata": {},
   "outputs": [],
   "source": [
    "import pandas as pd"
   ]
  },
  {
   "cell_type": "code",
   "execution_count": 2,
   "metadata": {},
   "outputs": [],
   "source": [
    "def import1event(name:str, delimit:str):  \n",
    "    df = pd.read_csv(name,sep=delimit,header=None, names=[\"pt\",\"eta\",\"phi\",\"charge\"])\n",
    "    return df"
   ]
  },
  {
   "cell_type": "code",
   "execution_count": 5,
   "metadata": {},
   "outputs": [
    {
     "name": "stdout",
     "output_type": "stream",
     "text": [
      "        pt    eta    phi  charge\n",
      "0    1.094 -0.085 -3.055       1\n",
      "1    1.418  1.417 -3.025       1\n",
      "2    1.438 -1.569 -2.996       1\n",
      "3    1.132 -1.061 -2.986       1\n",
      "4    2.352 -0.350 -2.867       1\n",
      "..     ...    ...    ...     ...\n",
      "239  1.557 -1.594  2.463      -1\n",
      "240  1.287 -2.282 -1.011      -1\n",
      "241  0.917  2.180  1.562      -1\n",
      "242  1.124  2.316 -0.952      -1\n",
      "243  3.304  2.127 -0.447       1\n",
      "\n",
      "[244 rows x 4 columns]\n"
     ]
    },
    {
     "name": "stderr",
     "output_type": "stream",
     "text": [
      "/Library/Frameworks/Python.framework/Versions/3.10/lib/python3.10/site-packages/pandas/util/_decorators.py:311: ParserWarning: Falling back to the 'python' engine because the 'c' engine does not support regex separators (separators > 1 char and different from '\\s+' are interpreted as regex); you can avoid this warning by specifying engine='python'.\n",
      "  return func(*args, **kwargs)\n"
     ]
    }
   ],
   "source": [
    "event0 = import1event('pb0.txt', '         ')\n",
    "print(event0)"
   ]
  }
 ],
 "metadata": {
  "kernelspec": {
   "display_name": "Python 3.10.0 64-bit",
   "language": "python",
   "name": "python3"
  },
  "language_info": {
   "codemirror_mode": {
    "name": "ipython",
    "version": 3
   },
   "file_extension": ".py",
   "mimetype": "text/x-python",
   "name": "python",
   "nbconvert_exporter": "python",
   "pygments_lexer": "ipython3",
   "version": "3.10.0"
  },
  "orig_nbformat": 4,
  "vscode": {
   "interpreter": {
    "hash": "aee8b7b246df8f9039afb4144a1f6fd8d2ca17a180786b69acc140d282b71a49"
   }
  }
 },
 "nbformat": 4,
 "nbformat_minor": 2
}

{
 "cells": [
  {
   "cell_type": "code",
   "execution_count": 5,
   "metadata": {},
   "outputs": [],
   "source": [
    "from utils import *"
   ]
  },
  {
   "cell_type": "code",
   "execution_count": 6,
   "metadata": {},
   "outputs": [
    {
     "name": "stdout",
     "output_type": "stream",
     "text": [
      "       pt    eta    phi  charge\n",
      "0   0.977 -0.547  3.116      -1\n",
      "1   1.072  0.526 -3.127      -1\n",
      "2   1.019 -0.395 -3.009       1\n",
      "3   1.091  0.669 -3.002       1\n",
      "4   1.034 -0.534 -3.062      -1\n",
      "5   1.065  0.708 -3.052      -1\n",
      "6   1.055 -0.813 -2.888       1\n",
      "7   2.949  0.359 -2.908       1\n",
      "8   2.063 -1.304 -2.933      -1\n",
      "9   1.181 -0.526 -2.939      -1\n",
      "10  1.071 -0.760 -2.814       1\n",
      "11  4.576 -1.227 -2.814       1\n",
      "12  0.934 -0.451 -2.834      -1\n",
      "13  1.068  1.541 -2.743       1\n",
      "14  1.237 -0.920 -2.727       1\n",
      "15  2.025  0.432 -2.744       1\n",
      "16  1.179 -0.382 -2.714       1\n",
      "17  1.798  2.152 -2.776      -1\n",
      "18  1.591  0.032 -2.775      -1\n",
      "19  0.933  0.400 -2.692       1\n"
     ]
    }
   ],
   "source": [
    "test_event_2 = importpbdatapandas(2)\n",
    "print(test_event_2[0:20])"
   ]
  }
 ],
 "metadata": {
  "kernelspec": {
   "display_name": "Python 3.10.4 64-bit",
   "language": "python",
   "name": "python3"
  },
  "language_info": {
   "codemirror_mode": {
    "name": "ipython",
    "version": 3
   },
   "file_extension": ".py",
   "mimetype": "text/x-python",
   "name": "python",
   "nbconvert_exporter": "python",
   "pygments_lexer": "ipython3",
   "version": "3.10.5"
  },
  "orig_nbformat": 4,
  "vscode": {
   "interpreter": {
    "hash": "c43f6b615c7e2039ab38ef09bb5845fbfe9e991e1b6088993c5675be0595d424"
   }
  }
 },
 "nbformat": 4,
 "nbformat_minor": 2
}

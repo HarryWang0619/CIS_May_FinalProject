{
 "cells": [
  {
   "cell_type": "code",
   "execution_count": 1,
   "metadata": {},
   "outputs": [
    {
     "name": "stdout",
     "output_type": "stream",
     "text": [
      "      pt    eta    phi  charge\n",
      "0  2.231 -0.028 -3.088      -1\n",
      "1  2.337 -0.545 -3.069      -1\n",
      "2  1.166 -0.522 -2.991       1\n",
      "3  1.034 -0.682 -2.932       1\n",
      "4  1.000 -0.079 -2.993      -1\n",
      "5  1.154 -0.880 -2.828       1\n",
      "6  3.777 -1.039 -2.842       1\n",
      "7  1.249  0.570 -2.871      -1\n",
      "8  1.519 -0.043 -2.776       1\n",
      "9  1.073 -0.877 -2.550       1\n"
     ]
    }
   ],
   "source": [
    "from utils import *"
   ]
  },
  {
   "cell_type": "code",
   "execution_count": null,
   "metadata": {},
   "outputs": [],
   "source": []
  }
 ],
 "metadata": {
  "kernelspec": {
   "display_name": "Python 3.10.5 64-bit",
   "language": "python",
   "name": "python3"
  },
  "language_info": {
   "codemirror_mode": {
    "name": "ipython",
    "version": 3
   },
   "file_extension": ".py",
   "mimetype": "text/x-python",
   "name": "python",
   "nbconvert_exporter": "python",
   "pygments_lexer": "ipython3",
   "version": "3.10.5"
  },
  "orig_nbformat": 4,
  "vscode": {
   "interpreter": {
    "hash": "c1239c1b5d0fa0d3be4164f0c35d128a05986c229e4b8ac2110071c74f6043f7"
   }
  }
 },
 "nbformat": 4,
 "nbformat_minor": 2
}

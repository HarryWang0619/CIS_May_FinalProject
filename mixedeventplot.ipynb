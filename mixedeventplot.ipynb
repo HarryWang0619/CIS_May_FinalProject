{
 "cells": [
  {
   "cell_type": "code",
   "execution_count": 2,
   "metadata": {},
   "outputs": [],
   "source": [
    "from utils import *\n",
    "debug = True"
   ]
  },
  {
   "cell_type": "code",
   "execution_count": 13,
   "metadata": {},
   "outputs": [],
   "source": [
    "all_events = [importpbdatapandas(i) for i in range(0, 22948)]"
   ]
  },
  {
   "cell_type": "code",
   "execution_count": 4,
   "metadata": {},
   "outputs": [],
   "source": [
    "def background_distribution(event1, event2):\n",
    "    philist = np.array([])\n",
    "    etalist = np.array([])\n",
    "    for i in range(len(event1)):\n",
    "        #hold index0 for first event, and traverse second event\n",
    "        for j in range(len(event2)):\n",
    "            dphi = event1[\"phi\"][i] - event2[\"phi\"][j]\n",
    "            if dphi > np.pi:\n",
    "                dphi = dphi - 2*np.pi\n",
    "            if dphi < -np.pi:\n",
    "                dphi = dphi + 2*np.pi\n",
    "            deta = event1[\"eta\"][i] - event2[\"eta\"][j]\n",
    "            philist = np.append(philist, dphi)\n",
    "            etalist = np.append(etalist, deta)\n",
    "\n",
    "    df = pd.DataFrame(np.vstack([philist,etalist]).T,columns=['phi','eta'])\n",
    "    df = pd.concat([df, -1*df], ignore_index=True)\n",
    "\n",
    "    return df"
   ]
  },
  {
   "cell_type": "code",
   "execution_count": 15,
   "metadata": {},
   "outputs": [],
   "source": [
    "def background_range(start,end): #简单测试用的: 连续的 different event difference\n",
    "    # 01,12,23,34....\n",
    "    if start > end or start < 0 or start > 22947 or end < 0 or end > 22947:\n",
    "        print(\"index error\")\n",
    "        return\n",
    "    \n",
    "    df = background_distribution(all_events[start], all_events[start+1])\n",
    "    start += 1\n",
    "    while start+1 <= end:\n",
    "        event1 = all_events[start]\n",
    "        event2 = all_events[start+1]\n",
    "        temp = background_distribution(event1, event2)\n",
    "        df = pd.concat([df, temp], ignore_index=True)\n",
    "        start += 1\n",
    "\n",
    "    return df\n",
    "    "
   ]
  },
  {
   "cell_type": "code",
   "execution_count": 16,
   "metadata": {},
   "outputs": [],
   "source": [
    "def background_range_pro(start, end): #老师让我们去搞的 ： 任意的different event difference\n",
    "    #01,02,03,04, 12,13,14, 23,34\n",
    "    t0 = time.time()\n",
    "    if start > end or start < 0 or start > 22947 or end < 0 or end > 22947:\n",
    "        print(\"index error\")\n",
    "        return\n",
    "    \n",
    "    current1idx = 0\n",
    "    current2idx = 1\n",
    "    # print(\"now processing index: \",current1idx, current2idx) \n",
    "    df = background_distribution(all_events[start], all_events[start+1])\n",
    "    current2idx += 1\n",
    "    while current1idx <= end-1:\n",
    "        print(\"now processing index A at: \",current1idx, \"time: \", time.time()-t0)\n",
    "        while current2idx <= end:\n",
    "            # print(\"now processing index: \",current1idx, current2idx)\n",
    "            event1 = all_events[current1idx]\n",
    "            event2 = all_events[current2idx]\n",
    "            temp = background_distribution(event1, event2)\n",
    "            df = pd.concat([df, temp], ignore_index=True)\n",
    "            current2idx += 1\n",
    "        current1idx += 1\n",
    "        current2idx = current1idx + 1\n",
    "\n",
    "    return df\n"
   ]
  },
  {
   "cell_type": "code",
   "execution_count": 26,
   "metadata": {},
   "outputs": [
    {
     "name": "stdout",
     "output_type": "stream",
     "text": [
      "calculating surface for first  210 x50 events at time: 198.43974328041077\n",
      "calculating surface for first  211 x50 events at time: 356.81141233444214\n",
      "calculating surface for first  212 x50 events at time: 579.5504922866821\n",
      "calculating surface for first  213 x50 events at time: 766.7581572532654\n",
      "calculating surface for first  214 x50 events at time: 971.6258182525635\n",
      "calculating surface for first  215 x50 events at time: 1167.1209251880646\n",
      "calculating surface for first  216 x50 events at time: 1390.3935151100159\n",
      "calculating surface for first  217 x50 events at time: 1575.372076034546\n",
      "calculating surface for first  218 x50 events at time: 1752.2047250270844\n",
      "calculating surface for first  219 x50 events at time: 2237.0141792297363\n",
      "calculating surface for first  220 x50 events at time: 2433.2862610816956\n",
      "calculating surface for first  221 x50 events at time: 2635.816803216934\n",
      "calculating surface for first  222 x50 events at time: 2851.932813167572\n",
      "calculating surface for first  223 x50 events at time: 3043.2729630470276\n",
      "calculating surface for first  224 x50 events at time: 3241.5828332901\n",
      "calculating surface for first  225 x50 events at time: 3434.881695985794\n",
      "calculating surface for first  226 x50 events at time: 3638.601223230362\n",
      "calculating surface for first  227 x50 events at time: 3849.2351841926575\n",
      "calculating surface for first  228 x50 events at time: 4043.3619241714478\n",
      "calculating surface for first  229 x50 events at time: 4225.00954914093\n",
      "calculating surface for first  230 x50 events at time: 4449.606036186218\n",
      "calculating surface for first  231 x50 events at time: 4643.654697179794\n",
      "calculating surface for first  232 x50 events at time: 4834.461104154587\n",
      "calculating surface for first  233 x50 events at time: 5019.861357212067\n",
      "calculating surface for first  234 x50 events at time: 5219.003407239914\n",
      "calculating surface for first  235 x50 events at time: 5396.147327423096\n",
      "calculating surface for first  236 x50 events at time: 5606.540362358093\n",
      "calculating surface for first  237 x50 events at time: 5800.398328065872\n",
      "calculating surface for first  238 x50 events at time: 5990.905132055283\n",
      "calculating surface for first  239 x50 events at time: 8077.013978242874\n",
      "calculating surface for first  240 x50 events at time: 10337.042072057724\n",
      "calculating surface for first  241 x50 events at time: 10531.061680316925\n",
      "calculating surface for first  242 x50 events at time: 10730.84262418747\n",
      "calculating surface for first  243 x50 events at time: 10930.55997633934\n",
      "calculating surface for first  244 x50 events at time: 11112.80388712883\n",
      "calculating surface for first  245 x50 events at time: 11306.62461733818\n",
      "calculating surface for first  246 x50 events at time: 11522.76601600647\n",
      "calculating surface for first  247 x50 events at time: 12612.327412366867\n",
      "calculating surface for first  248 x50 events at time: 12799.1840031147\n",
      "calculating surface for first  249 x50 events at time: 13005.362765073776\n"
     ]
    }
   ],
   "source": [
    "t0 = time.time()\n",
    "\n",
    "for i in range (210,250): #459: 0-50, 50-100, 100-150, 150-200, 200-250 || 250-300, 300-350, 350-400, 400-459\n",
    "    idxstart = i*50\n",
    "    idxend = idxstart + 49 if (idxstart < 22899) else 22947\n",
    "    #print(idxstart, idxend)\n",
    "\n",
    "    mixed_i = background_range(idxstart, idxend)\n",
    "    print(\"calculating surface for first \", i, \"x50 events at time:\" , time.time() - t0)\n",
    "    mixed_x, mixed_y, mixed_z = surfacedata(mixed_i, 40, 40, 3.15, 6)\n",
    "    filename = 'mixed40x40/mixed_z_' + str(i) + '.csv'\n",
    "    np.savetxt(filename, mixed_z, delimiter=\",\")\n",
    "    # if i == 0:\n",
    "    #     np.savetxt('mixed40x40/mixed_x_header.csv', mixed_x, delimiter=\",\")\n",
    "    #     np.savetxt('mixed40x40/mixed_y_header.csv', mixed_y, delimiter=\",\")"
   ]
  }
 ],
 "metadata": {
  "kernelspec": {
   "display_name": "Python 3.10.5 64-bit",
   "language": "python",
   "name": "python3"
  },
  "language_info": {
   "codemirror_mode": {
    "name": "ipython",
    "version": 3
   },
   "file_extension": ".py",
   "mimetype": "text/x-python",
   "name": "python",
   "nbconvert_exporter": "python",
   "pygments_lexer": "ipython3",
   "version": "3.10.5"
  },
  "orig_nbformat": 4,
  "vscode": {
   "interpreter": {
    "hash": "aee8b7b246df8f9039afb4144a1f6fd8d2ca17a180786b69acc140d282b71a49"
   }
  }
 },
 "nbformat": 4,
 "nbformat_minor": 2
}
